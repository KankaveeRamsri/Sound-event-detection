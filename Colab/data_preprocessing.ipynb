{
 "cells": [
  {
   "cell_type": "code",
   "execution_count": null,
   "metadata": {},
   "outputs": [],
   "source": [
    "from google.colab import drive\n",
    "drive.mount(\"/content/drive\")"
   ]
  },
  {
   "cell_type": "code",
   "execution_count": null,
   "metadata": {},
   "outputs": [],
   "source": [
    "import pandas as pd\n",
    "import librosa\n",
    "import os\n",
    "import numpy as np\n",
    "from google.colab import files"
   ]
  },
  {
   "cell_type": "code",
   "execution_count": null,
   "metadata": {},
   "outputs": [],
   "source": [
    "def extract_mfcc(file_path, sr=22050, n_mfcc=40, min_n_fft=1024):\n",
    "    y, sr = librosa.load(file_path, sr=sr)\n",
    "\n",
    "    if len(y) < min_n_fft:\n",
    "        print(f\"❌ Skipping {file_path}: Audio too short ({len(y)} samples)\")\n",
    "        return None\n",
    "\n",
    "    n_fft_value = min(2048, len(y))  \n",
    "    mfcc = librosa.feature.mfcc(y=y, sr=sr, n_mfcc=n_mfcc, n_fft=n_fft_value)\n",
    "\n",
    "    return mfcc.flatten()"
   ]
  },
  {
   "cell_type": "code",
   "execution_count": null,
   "metadata": {},
   "outputs": [],
   "source": [
    "base_path = \"/content/drive/MyDrive/Miniproject_ML/sound_dataset(final)\"\n",
    "labels = os.listdir(base_path)\n",
    "\n",
    "data = [] \n",
    "\n",
    "for label in labels:\n",
    "    class_path = os.path.join(base_path, label)\n",
    "    if os.path.isdir(class_path):\n",
    "        print(f\"📂 Processing class: {label}\")\n",
    "        for filename in os.listdir(class_path):\n",
    "            file_path = os.path.join(class_path, filename)\n",
    "            if filename.endswith(\".wav\"):\n",
    "                mfcc = extract_mfcc(file_path)\n",
    "                if mfcc is not None:\n",
    "                    data.append([mfcc, label])\n",
    "\n",
    "df = pd.DataFrame(data, columns=[\"mfcc\", \"label\"])\n",
    "\n",
    "mfcc_features = pd.DataFrame(df[\"mfcc\"].tolist())\n",
    "\n",
    "mfcc_features.columns = [f\"mfcc_{i}\" for i in range(mfcc_features.shape[1])]\n",
    "\n",
    "df_final = pd.concat([mfcc_features, df[\"label\"]], axis=1)\n",
    "\n",
    "print(df_final.head())\n",
    "\n",
    "df_final.to_csv(\"extracted_features.csv\", index=False)\n",
    "print(\"✅ บันทึกข้อมูลเรียบร้อย!\")"
   ]
  },
  {
   "cell_type": "code",
   "execution_count": null,
   "metadata": {},
   "outputs": [],
   "source": [
    "file_path = '/content/extracted_features.csv'\n",
    "mfcc_df = pd.read_csv(file_path)"
   ]
  },
  {
   "cell_type": "code",
   "execution_count": null,
   "metadata": {},
   "outputs": [],
   "source": [
    "# ใช้ .isnull() เพื่อนับค่า NaN ใหม่\n",
    "nan_per_row = mfcc_df.isnull().sum(axis=1)\n",
    "nan_rows = nan_per_row[nan_per_row > 0]\n",
    "\n",
    "print(f\"✅ พบแถวที่มี NaN ทั้งหมด {len(nan_rows)} แถว\")\n",
    "print(nan_rows.head(10)) "
   ]
  },
  {
   "cell_type": "code",
   "execution_count": null,
   "metadata": {},
   "outputs": [],
   "source": [
    "# ✅ แทนค่า NaN ด้วย -100\n",
    "mfcc_df.fillna(-100, inplace=True)\n",
    "mfcc_df.to_csv(\"mfcc_features_fixed.csv\", index=False)\n",
    "\n",
    "print(\"✅ แทนค่า NaN ด้วย -100 และบันทึกไฟล์เรียบร้อย!\")"
   ]
  },
  {
   "cell_type": "code",
   "execution_count": null,
   "metadata": {},
   "outputs": [],
   "source": [
    "file_path = '/content/mfcc_features_fixed.csv'\n",
    "mfcc_df = pd.read_csv(file_path)"
   ]
  },
  {
   "cell_type": "code",
   "execution_count": null,
   "metadata": {},
   "outputs": [],
   "source": [
    "files.download(\"mfcc_features_fixed.csv\")"
   ]
  }
 ],
 "metadata": {
  "kernelspec": {
   "display_name": "miniproject",
   "language": "python",
   "name": "python3"
  },
  "language_info": {
   "name": "python",
   "version": "3.11.3"
  }
 },
 "nbformat": 4,
 "nbformat_minor": 2
}
